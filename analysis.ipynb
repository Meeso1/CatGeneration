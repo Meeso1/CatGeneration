{
 "cells": [
  {
   "cell_type": "code",
   "execution_count": 1,
   "metadata": {},
   "outputs": [],
   "source": [
    "import numpy as np\n",
    "import matplotlib.pyplot as plt\n",
    "import kagglehub\n",
    "from data_loading import load_dataset\n",
    "from preprocessing import preprocess_images, generated_to_image\n",
    "\n",
    "images = load_dataset(kagglehub.dataset_download(\"borhanitrash/cat-dataset\"))\n",
    "images = preprocess_images(images)"
   ]
  },
  {
   "cell_type": "code",
   "execution_count": 2,
   "metadata": {},
   "outputs": [],
   "source": [
    "from Models.WandbConfig import WandbConfig\n",
    "from Models.VariationalAutoEncoder import VariationalAutoEncoder\n",
    "from FidScorer import FidScorer\n",
    "\n",
    "vae = VariationalAutoEncoder(\n",
    "    latent_dim=512,\n",
    "    hidden_dims=[128, 128, 256, 256, 512],\n",
    "    learning_rate=1e-3,\n",
    "    lr_decay=0.999,\n",
    "    beta_1=0.9,\n",
    "    beta_2=0.999,\n",
    "    weight_decay=1e-2,\n",
    "    kl_weight=1.0,\n",
    "    print_every=5,\n",
    "    fid_scorer=FidScorer(),\n",
    "    n_images_for_fid=1000\n",
    ").with_wandb(WandbConfig(\n",
    "    experiment_name=\"vae_long_run\",\n",
    "    config_name=\"vae_default\",\n",
    "    artifact_name=\"vae_default_long_run\",\n",
    "    init_project=True\n",
    "))"
   ]
  },
  {
   "cell_type": "code",
   "execution_count": null,
   "metadata": {},
   "outputs": [],
   "source": [
    "vae.train(images, epochs=500, batch_size=8)"
   ]
  },
  {
   "cell_type": "code",
   "execution_count": 2,
   "metadata": {},
   "outputs": [],
   "source": [
    "from Models.GenerativeAdversarialNetwork import GenerativeAdversarialNetwork\n",
    "\n",
    "gan = GenerativeAdversarialNetwork(\n",
    "    latent_dim=512,\n",
    "    hidden_dims_generator=[1024, 512, 256, 128, 64, 32],\n",
    "    hidden_dims_discriminator=[32, 64, 128, 256, 512, 1024],\n",
    "    learning_rate_generator=1e-4,\n",
    "    learning_rate_discriminator=1e-4,\n",
    "    beta_1=0.5,\n",
    "    beta_2=0.999,\n",
    "    weight_decay=0.0,\n",
    "    print_every=3,\n",
    "    fid_scorer=FidScorer(),\n",
    "    n_images_for_fid=1000\n",
    ").with_wandb(WandbConfig(\n",
    "    experiment_name=\"gan_long_run\",\n",
    "    config_name=\"gan_default\",\n",
    "    artifact_name=\"gan_default_long_run\",\n",
    "    init_project=True\n",
    "))"
   ]
  },
  {
   "cell_type": "code",
   "execution_count": null,
   "metadata": {},
   "outputs": [],
   "source": [
    "gan.train(images, epochs=150, batch_size=8)"
   ]
  }
 ],
 "metadata": {
  "kernelspec": {
   "display_name": ".venv",
   "language": "python",
   "name": "python3"
  },
  "language_info": {
   "codemirror_mode": {
    "name": "ipython",
    "version": 3
   },
   "file_extension": ".py",
   "mimetype": "text/x-python",
   "name": "python",
   "nbconvert_exporter": "python",
   "pygments_lexer": "ipython3",
   "version": "3.13.3"
  }
 },
 "nbformat": 4,
 "nbformat_minor": 2
}
