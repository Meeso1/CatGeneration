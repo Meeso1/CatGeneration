{
 "cells": [
  {
   "cell_type": "code",
   "execution_count": null,
   "metadata": {},
   "outputs": [],
   "source": [
    "import numpy as np\n",
    "import matplotlib.pyplot as plt\n",
    "import kagglehub\n",
    "from data_loading import load_dataset\n",
    "from preprocessing import preprocess_images, generated_to_image\n",
    "\n",
    "images = load_dataset(kagglehub.dataset_download(\"borhanitrash/cat-dataset\"))\n",
    "images = preprocess_images(images)"
   ]
  },
  {
   "cell_type": "code",
   "execution_count": 4,
   "metadata": {},
   "outputs": [],
   "source": [
    "from Models.VariationalAutoEncoder import VariationalAutoEncoder\n",
    "\n",
    "vae = VariationalAutoEncoder(\n",
    "    latent_dim=512,\n",
    "    hidden_dims=[128, 128, 256, 256, 512],\n",
    "    learning_rate=1e-3,\n",
    "    lr_decay=0.999,\n",
    "    beta_1=0.9,\n",
    "    beta_2=0.999,\n",
    "    weight_decay=1e-2,\n",
    "    kl_weight=1.0,\n",
    "    print_every=10\n",
    ")"
   ]
  },
  {
   "cell_type": "code",
   "execution_count": null,
   "metadata": {},
   "outputs": [],
   "source": [
    "vae.train(images, epochs=200, batch_size=128)"
   ]
  },
  {
   "cell_type": "code",
   "execution_count": null,
   "metadata": {},
   "outputs": [],
   "source": [
    "plt.imshow(generated_to_image(vae.generate(1)[0]))\n",
    "plt.show()"
   ]
  }
 ],
 "metadata": {
  "kernelspec": {
   "display_name": ".venv",
   "language": "python",
   "name": "python3"
  },
  "language_info": {
   "codemirror_mode": {
    "name": "ipython",
    "version": 3
   },
   "file_extension": ".py",
   "mimetype": "text/x-python",
   "name": "python",
   "nbconvert_exporter": "python",
   "pygments_lexer": "ipython3",
   "version": "3.13.3"
  }
 },
 "nbformat": 4,
 "nbformat_minor": 2
}
