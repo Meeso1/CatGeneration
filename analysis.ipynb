{
 "cells": [
  {
   "cell_type": "code",
   "execution_count": 1,
   "metadata": {},
   "outputs": [],
   "source": [
    "import numpy as np\n",
    "import matplotlib.pyplot as plt\n",
    "import kagglehub\n",
    "from data_loading import load_dataset\n",
    "from preprocessing import preprocess_images, generated_to_image\n",
    "\n",
    "from Models.ModelBase import ModelBase\n",
    "from Models.WandbConfig import WandbConfig\n",
    "from Models.VariationalAutoEncoder import VariationalAutoEncoder\n",
    "from Models.GenerativeAdversarialNetwork import GenerativeAdversarialNetwork\n",
    "from FidScorer import FidScorer\n",
    "\n",
    "images = load_dataset(kagglehub.dataset_download(\"borhanitrash/cat-dataset\"))\n",
    "images = preprocess_images(images)"
   ]
  },
  {
   "cell_type": "code",
   "execution_count": 2,
   "metadata": {},
   "outputs": [],
   "source": [
    "vae = VariationalAutoEncoder(\n",
    "    latent_dim=512,\n",
    "    hidden_dims=[128, 128, 256, 256, 512],\n",
    "    learning_rate=1e-3,\n",
    "    lr_decay=0.999,\n",
    "    beta_1=0.9,\n",
    "    beta_2=0.999,\n",
    "    weight_decay=1e-2,\n",
    "    kl_weight=1.0,\n",
    "    print_every=5,\n",
    "    fid_scorer=FidScorer(),\n",
    "    n_images_for_fid=1000\n",
    ").with_wandb(WandbConfig(\n",
    "    experiment_name=\"vae_long_run\",\n",
    "    config_name=\"vae_default\",\n",
    "    artifact_name=\"vae_default_long_run\",\n",
    "    init_project=True\n",
    "))"
   ]
  },
  {
   "cell_type": "code",
   "execution_count": null,
   "metadata": {},
   "outputs": [],
   "source": [
    "vae.train(images, epochs=500, batch_size=8)"
   ]
  },
  {
   "cell_type": "code",
   "execution_count": 2,
   "metadata": {},
   "outputs": [],
   "source": [
    "gan = GenerativeAdversarialNetwork(\n",
    "    latent_dim=512,\n",
    "    hidden_dims_generator=[1024, 512, 256, 128, 64, 32],\n",
    "    hidden_dims_discriminator=[32, 64, 128, 256, 512, 1024],\n",
    "    learning_rate_generator=1e-4,\n",
    "    learning_rate_discriminator=1e-4,\n",
    "    beta_1=0.5,\n",
    "    beta_2=0.999,\n",
    "    weight_decay=0.0,\n",
    "    print_every=3,\n",
    "    fid_scorer=FidScorer(),\n",
    "    n_images_for_fid=1000\n",
    ").with_wandb(WandbConfig(\n",
    "    experiment_name=\"gan_long_run\",\n",
    "    config_name=\"gan_default\",\n",
    "    artifact_name=\"gan_default_long_run\",\n",
    "    init_project=True\n",
    "))"
   ]
  },
  {
   "cell_type": "code",
   "execution_count": null,
   "metadata": {},
   "outputs": [],
   "source": [
    "gan.train(images, epochs=150, batch_size=8)"
   ]
  },
  {
   "cell_type": "code",
   "execution_count": null,
   "metadata": {},
   "outputs": [],
   "source": [
    "vae = VariationalAutoEncoder.load_state_dict(WandbConfig.get_artifact_from_wandb(\"vae_default_long_run\"))"
   ]
  },
  {
   "cell_type": "code",
   "execution_count": 89,
   "metadata": {},
   "outputs": [],
   "source": [
    "def generate_from_latent_line(model: ModelBase, latent_start: np.ndarray, latent_end: np.ndarray, n_samples: int) -> np.ndarray:\n",
    "    latents = np.linspace(latent_start, latent_end, n_samples)\n",
    "    images = model.generate_from_latent(latents)\n",
    "    return images\n",
    "\n",
    "def generate_from_latent_circle(model: ModelBase, latent_first: np.ndarray, latent_second: np.ndarray, n_samples: int) -> np.ndarray:\n",
    "    latents = np.zeros((n_samples, latent_first.shape[0]))\n",
    "    r = np.linalg.norm(latent_first)\n",
    "    u1 = latent_first / np.linalg.norm(latent_first)\n",
    "    u2 = latent_second / np.linalg.norm(latent_second)\n",
    "    for i in range(n_samples):\n",
    "        theta = 2 * np.pi * i / n_samples\n",
    "        latents[i] = u1 * r * np.cos(theta) + u2 * r * np.sin(theta)\n",
    "    images = model.generate_from_latent(latents)\n",
    "    return images\n",
    "\n",
    "def plot_image_series(image_rows: list[np.ndarray], titles: list[str]) -> None:\n",
    "    if len(image_rows) != len(titles):\n",
    "        raise ValueError(\"Number of image rows and titles must be the same\")\n",
    "    \n",
    "    if any(len(row) != len(image_rows[0]) for row in image_rows):\n",
    "        raise ValueError(\"All rows must have the same number of images\")\n",
    "    \n",
    "    # Create figure with extra space for titles\n",
    "    fig = plt.figure(figsize=(len(image_rows[0]) * 2, len(image_rows) * 2.5))\n",
    "    \n",
    "    # Create a grid with extra space for titles\n",
    "    gs = plt.GridSpec(len(image_rows) * 2, len(image_rows[0]), height_ratios=[0.1, 1] * len(image_rows))\n",
    "    \n",
    "    # Add titles and images\n",
    "    for i in range(len(image_rows)):\n",
    "        # Add title centered above each row\n",
    "        ax = fig.add_subplot(gs[i * 2, :])\n",
    "        ax.text(0.5, 0.5, titles[i], ha='center', va='center', fontsize=16)\n",
    "        ax.axis('off')\n",
    "        \n",
    "        # Add images in the row below the title\n",
    "        for j in range(len(image_rows[i])):\n",
    "            ax = fig.add_subplot(gs[i * 2 + 1, j])\n",
    "            ax.imshow(generated_to_image(image_rows[i][j]))\n",
    "            ax.axis('off')"
   ]
  },
  {
   "cell_type": "code",
   "execution_count": null,
   "metadata": {},
   "outputs": [],
   "source": [
    "latent_start = np.random.normal(0, 1, (512,))\n",
    "latent_end = np.random.normal(0, 1, (512,))\n",
    "\n",
    "line_images = generate_from_latent_line(vae, latent_start, latent_end, 10)\n",
    "circle_images = generate_from_latent_circle(vae, latent_start, latent_end, 10)\n",
    "plot_image_series([line_images, circle_images], [\"Line between two latent representations\", \"Circle around the origin in latent space\"])\n",
    "plt.show()"
   ]
  }
 ],
 "metadata": {
  "kernelspec": {
   "display_name": ".venv",
   "language": "python",
   "name": "python3"
  },
  "language_info": {
   "codemirror_mode": {
    "name": "ipython",
    "version": 3
   },
   "file_extension": ".py",
   "mimetype": "text/x-python",
   "name": "python",
   "nbconvert_exporter": "python",
   "pygments_lexer": "ipython3",
   "version": "3.13.2"
  }
 },
 "nbformat": 4,
 "nbformat_minor": 2
}
